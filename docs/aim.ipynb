{
 "cells": [
  {
   "cell_type": "markdown",
   "metadata": {},
   "source": [
    "# Atoms-in-Molecules\n",
    "\n",
    "Another important aspect of the information-theoretic approach is to re-evaluate the above quantities from the perspective of atoms in molecules. To consider atomic contributions of an information-theoretic quantity in a molecular system, three approaches are available to perform atom partitionsin molecules. They are Becke's fuzzy atom approach, Bader's zero-flux AIM approach, and Hirshfeld's stockholder approach. "
   ]
  },
  {
   "cell_type": "markdown",
   "metadata": {},
   "source": [
    "## Becke's fuzzy atom approach\n",
    "\n",
    "Becke's weight functions are defined as\n",
    "\n",
    "$$\n",
    "\\omega_A(r) = \\frac{V_A(r)}{\\sum_B V_B(r)}\n",
    "\\tag{1}\n",
    "$$\n",
    "\n",
    "where \n",
    "\n",
    "$$\n",
    "V_A(r) = \\prod_{B\\neq a} s_k(\\mu_\\text{AB})\n",
    "\\tag{2}\n",
    "$$\n",
    "\n",
    "is the Voronoi polyhedron function constructed from the smoothing function\n",
    "\n",
    "$$\n",
    "s_k(\\mu_\\text{AB}) = \\frac{1}{2}[1 - f_k(\\mu_\\text{AB})].\t\n",
    "\\tag{3}\n",
    "$$\n",
    "\n",
    "The polynomial $f_k$ is obtained by the iteration formula\n",
    "\n",
    "$$\n",
    "f_k = \\frac{1}{2}f_{k-1}(3 - f_{2k-1})\n",
    "\\tag(4)\n",
    "$$\n",
    "\n",
    "starting from $f_0 = \\mu_\\text{AB}$ and iterating k-times. As suggested by Becke, the value assigned to the stiffness parameter k is 3, which provides a soft transition between atoms. The dependence on spacial coordinates is described by the confocal elliptical coordinate\n",
    "\n",
    "$$\n",
    "\\mu_\\text{AB} = (r_A - r_B)/R_{AB}\n",
    "\\tag{5}\n",
    "$$\n",
    "\n",
    "where $r_A$, $r_B$ and $R_{AB}$ denote distance to nucleus A, distance to nucleus B, and the internuclear separation, respectively. Becke further proposed an atomic size adjustment for heteronuclear molecules by adding to the argument μAB of the smoothing function sk the correcting term\n",
    "\n",
    "$$\n",
    "\\nu_{AB} = \\frac{1}{4}(1 - \\mu_{AB}^2)(1 - \\chi_{AB}^2)/\\chi_{AB}\n",
    "\\tag{6}\n",
    "$$\n",
    "\n",
    "where $\\chi_{AB}$ denotes the ratio of the Bragg-Slater covalent radii of atoms A and B. For hydrogen, however, Becke suggested a radius of 0.35 $\\text{\\AA}$, somewhat larger than Slater's value of 0.25 $\\text{\\AA}$. Stone argued that using the Bragg-Slater radii in the Becke partitioning \"leads to rather implausible multipole moments (rather large and not in keeping with chemical intuition) though they lead to accurate electrostatic potentials\". For this reason, the default procedure in Stone's GDMA program is to set all the atom radii equal to a value of 0.65 $\\text{\\AA}$, except for hydrogen (to which a value of 0.325 $\\text{\\AA}$ is assigned). According to user's preferences, PAMoC can either use Becke's recipe for atomic size adjustments, or ignore them so that the boundary between neighboring atoms comes halfway between them.\n",
    "\n",
    "Though Becke's method has been developed for handling the integrals of density functional theory, it has been efficiently applied to the distribute multipole analysis of theoretical electron densities, to estimation of overlap populations, bond orders and valences of fuzzy atoms and to energy partitioning in one- and two-atomic contributions. It can be applied to experimental electron densities as well."
   ]
  },
  {
   "cell_type": "markdown",
   "metadata": {},
   "source": [
    "## Bader's zero-flux AIM approach\n",
    "\n",
    "One of the best known exhaustive partitions of 3D space is provided by the quantum theory of atoms in molecules (QTAIM) of Bader and coworkers, which introduces a new concept of atom, based on the quantum chemical topology (QCT), of the electron density.\n",
    "\n",
    "According to the QTAIM, the boundary condition for a quantum subsystem leads to a unique, exhaustive and disjoint partitioning of the real space of a molecule or crystal into a set of mononuclear regions. QTAIM performs a topological analysis of $\\rho(r)$ and divides all space into non overlapping regions, the atomic basins $\\Omega$, separated by interatomic surfaces $S(r)$ that satisfy the boundary condition of zero flux of the gradient vector field of the electron charge density,\n",
    "\n",
    "$$\n",
    "\\nabla \\rho(r) \\cdot n(r) = 0\\ \\forall r \\in S(r)\n",
    "$$\n",
    "\n",
    "where $n(r)$ is a unit vector normal to the surface at $r$. Here the nuclear weight function $\\omega_A(r)$ equals 1 for each $r \\in \\Omega_A$ and zero otherwise.\n",
    "\n",
    "QTAIM partitioning can be applied either to the molecule in the crystal form, where the atomic basins are defined by the interatomic surfaces (IAS) in the crystal (QCT atoms), or to the molecule extracted from the crystal, whose atoms are separated by interatomic surfaces inside the molecule, but have boundaries artificially moved to infinity outside the molecule. The latter partitioning (hereafter referred as QCT*) gives molecules whose electron densities overlap with one another, so that their electrostatic energies need to be corrected for the penetration energy as in the case of any other type of fuzzy boundary molecules."
   ]
  },
  {
   "cell_type": "markdown",
   "metadata": {},
   "source": [
    "## Hirshfeld's stockholder approach\n",
    "\n",
    "Hirshfeld defined the nuclear weight function $\\omega_A(r)$ according to the common sense stockholder principle,\n",
    "\n",
    "$$\n",
    "\\omega_A(r) = \\frac{\\rho_A^0 (r - R_A)}{\\sum_B \\rho_B^0(r)}  =\\frac{\\rho_A^0 (r - R_A)}{\\rho^0(r)} \n",
    "$$\n",
    "\n",
    "by which each atom A partecipates in the molecular profit $\\rho(r)$ in proportion to its share $\\omega_A(r)$ in the promolecular investment $\\rho_A(r)^0 $. Here, $\\rho_A^0(r - RA)$ is the electron density of the isolated spherical atom A (proatom), placed at its position in the molecule, and $\\rho^0(r) = \\sum_A \\rho_AA^0(r - R_A)$ is the promolecule electron density. As a default, PAMoC computes proatom electron densities from Clementi's Hartree-Fock limit atomic wave functions, using a ground-state H atom with standard molecular exponent $\\zeta_H = 1.24$ a.u.\n",
    "\n",
    "It has been shown that Hirshfeld atoms exhibit the minimum information distance to their free atom reference and satisfy the requirement of maximum transferability, i.e. they retain certain characteristic properties in a wide variety of environments. Hirshfeld's stockholder partitioning scheme has become to prominence in recent years with the widespread use of Hirshfeld surface analysis and fingerprint plots for visualizing and analyzing intermolecular interactions in crystals."
   ]
  }
 ],
 "metadata": {
  "kernelspec": {
   "display_name": "base",
   "language": "python",
   "name": "python3"
  },
  "language_info": {
   "codemirror_mode": {
    "name": "ipython",
    "version": 3
   },
   "file_extension": ".py",
   "mimetype": "text/x-python",
   "name": "python",
   "nbconvert_exporter": "python",
   "pygments_lexer": "ipython3",
   "version": "3.11.4"
  }
 },
 "nbformat": 4,
 "nbformat_minor": 2
}
