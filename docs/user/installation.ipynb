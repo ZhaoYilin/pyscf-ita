{
 "cells": [
  {
   "cell_type": "markdown",
   "id": "847e4a0e",
   "metadata": {},
   "source": [
    "Installation\n",
    "============\n",
    "\n",
    "This section gives the recommended way to install PYSCF-ITA. One can find the source code on Github https://zhaoyilin.github.io/pyscf-ita/."
   ]
  },
  {
   "cell_type": "markdown",
   "id": "17ad0fa8",
   "metadata": {},
   "source": [
    "Prerequisites\n",
    "-------------\n",
    "\n",
    "* Prerequisties:\n",
    "\n",
    "  - Python 3.6 or above\n",
    "  - pyscf 2.3.0\n",
    "  - numpy 1.13.1  "
   ]
  },
  {
   "cell_type": "markdown",
   "id": "b3b1410e",
   "metadata": {},
   "source": [
    "Compiling from source code\n",
    "--------------------------\n",
    "\n",
    "* Compile from source\n",
    "\n",
    "      git clone https://github.com/ZhaoYilin/pyscf-ita.git\n",
    "      cd pyscf-ita\n",
    "      python3 -m pip install -e .\n",
    "\n",
    "* Using pip to install python package on GitHub\n",
    "\n",
    "      pip install git+https://github.com/ZhaoYilin/pyscf-ita"
   ]
  }
 ],
 "metadata": {
  "kernelspec": {
   "display_name": "Python 3 (ipykernel)",
   "language": "python",
   "name": "python3"
  },
  "language_info": {
   "codemirror_mode": {
    "name": "ipython",
    "version": 3
   },
   "file_extension": ".py",
   "mimetype": "text/x-python",
   "name": "python",
   "nbconvert_exporter": "python",
   "pygments_lexer": "ipython3",
   "version": "3.9.12"
  }
 },
 "nbformat": 4,
 "nbformat_minor": 5
}
