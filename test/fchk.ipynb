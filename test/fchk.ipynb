{
 "cells": [
  {
   "cell_type": "code",
   "execution_count": 27,
   "metadata": {},
   "outputs": [
    {
     "name": "stdout",
     "output_type": "stream",
     "text": [
      "(22,)\n",
      "(22, 22)\n",
      "(22, 22)\n"
     ]
    },
    {
     "data": {
      "text/plain": [
       "(2, 22, 22)"
      ]
     },
     "execution_count": 27,
     "metadata": {},
     "output_type": "execute_result"
    }
   ],
   "source": [
    "from pyscf import gto, scf, dft\n",
    "import numpy as np\n",
    "\n",
    "'''\n",
    "A simple example to call integral transformation for given orbitals\n",
    "'''\n",
    "\n",
    "mol = gto.Mole()\n",
    "mol.atom = [\n",
    "[8,  0.0,  0.0,  0.0],\n",
    "[8,  0.0,  0.0,  1.5],\n",
    "[1,  1.0,  0.0,  0.0],\n",
    "[1,  0.0,  0.7,  1.0],\n",
    "]\n",
    "mol.basis = \"6-31G\"\n",
    "#mol.charge = 1\n",
    "#mol.multiplicity = 2\n",
    "mol.verbose = 0\n",
    "mol.build()\n",
    "\n",
    "mf = scf.HF(mol)\n",
    "#mf = dft.KS(mol)\n",
    "\n",
    "mf.kernel()\n",
    "\n",
    "print(mf.mo_energy.shape)\n",
    "print(mf.mo_coeff.shape)\n",
    "print(mf.make_rdm1().shape)\n",
    "\n",
    "np.array([mf.mo_coeff,mf.mo_coeff]).shape\n"
   ]
  },
  {
   "cell_type": "code",
   "execution_count": 36,
   "metadata": {},
   "outputs": [
    {
     "name": "stdout",
     "output_type": "stream",
     "text": [
      "CCSD total energy -150.8591226999828\n",
      "CCSD(T) total energy -150.8654388177677\n",
      "<pyscf.gto.mole.Mole object at 0x1269ad090>\n",
      "False\n",
      "True\n",
      "False\n",
      "False\n",
      "<class 'pyscf.cc.ccsd.CCSD'>\n"
     ]
    }
   ],
   "source": [
    "from pyscf import cc\n",
    "mycc = cc.CCSD(mf)\n",
    "mycc.kernel()\n",
    "print('CCSD total energy', mycc.e_tot)\n",
    "et = mycc.ccsd_t()\n",
    "print('CCSD(T) total energy', mycc.e_tot + et)\n",
    "\n",
    "#print(mf.make_rdm1())\n",
    "#mycc.make_rdm1()\n",
    "\n",
    "from pyscf.dft.rks import KohnShamDFT\n",
    "from pyscf.scf.hf import SCF\n",
    "\n",
    "print(mycc.mol)\n",
    "print(isinstance(mf, KohnShamDFT))\n",
    "print(isinstance(mf, SCF))\n",
    "print(isinstance(mycc, KohnShamDFT))\n",
    "print(isinstance(mycc, SCF))\n",
    "print(mycc.__class__)"
   ]
  },
  {
   "cell_type": "code",
   "execution_count": 14,
   "metadata": {},
   "outputs": [
    {
     "name": "stdout",
     "output_type": "stream",
     "text": [
      "CCSD total energy -150.83890900644667\n"
     ]
    },
    {
     "data": {
      "text/plain": [
       "['__call__',\n",
       " '__class__',\n",
       " '__delattr__',\n",
       " '__dict__',\n",
       " '__dir__',\n",
       " '__doc__',\n",
       " '__eq__',\n",
       " '__format__',\n",
       " '__ge__',\n",
       " '__getattribute__',\n",
       " '__getstate__',\n",
       " '__gt__',\n",
       " '__hash__',\n",
       " '__init__',\n",
       " '__init_subclass__',\n",
       " '__le__',\n",
       " '__lt__',\n",
       " '__module__',\n",
       " '__ne__',\n",
       " '__new__',\n",
       " '__reduce__',\n",
       " '__reduce_ex__',\n",
       " '__repr__',\n",
       " '__setattr__',\n",
       " '__sizeof__',\n",
       " '__str__',\n",
       " '__subclasshook__',\n",
       " '__weakref__',\n",
       " '_add_vvvv',\n",
       " '_dot',\n",
       " '_finalize',\n",
       " '_keys',\n",
       " '_nmo',\n",
       " '_nocc',\n",
       " '_scf',\n",
       " '_t0',\n",
       " '_w0',\n",
       " 'add_keys',\n",
       " 'amplitudes_to_cisdvec',\n",
       " 'ao2mo',\n",
       " 'apply',\n",
       " 'as_scanner',\n",
       " 'async_io',\n",
       " 'check_sanity',\n",
       " 'chkfile',\n",
       " 'ci',\n",
       " 'cisd',\n",
       " 'cisdvec_to_amplitudes',\n",
       " 'contract',\n",
       " 'conv_tol',\n",
       " 'converged',\n",
       " 'density_fit',\n",
       " 'direct',\n",
       " 'dump_chk',\n",
       " 'dump_flags',\n",
       " 'e_corr',\n",
       " 'e_hf',\n",
       " 'e_tot',\n",
       " 'emp2',\n",
       " 'from_fcivec',\n",
       " 'frozen',\n",
       " 'get_e_hf',\n",
       " 'get_frozen_mask',\n",
       " 'get_init_guess',\n",
       " 'get_nmo',\n",
       " 'get_nocc',\n",
       " 'kernel',\n",
       " 'level_shift',\n",
       " 'lindep',\n",
       " 'make_diagonal',\n",
       " 'make_rdm1',\n",
       " 'make_rdm2',\n",
       " 'max_cycle',\n",
       " 'max_memory',\n",
       " 'max_space',\n",
       " 'mo_coeff',\n",
       " 'mo_occ',\n",
       " 'mol',\n",
       " 'nmo',\n",
       " 'nocc',\n",
       " 'nroots',\n",
       " 'nstates',\n",
       " 'nuc_grad_method',\n",
       " 'post_kernel',\n",
       " 'pre_kernel',\n",
       " 'reset',\n",
       " 'run',\n",
       " 'set',\n",
       " 'stdout',\n",
       " 'to_fcivec',\n",
       " 'trans_rdm1',\n",
       " 'vector_size',\n",
       " 'verbose',\n",
       " 'view']"
      ]
     },
     "execution_count": 14,
     "metadata": {},
     "output_type": "execute_result"
    }
   ],
   "source": [
    "from pyscf import ci\n",
    "myci = ci.CISD(mf)\n",
    "myci.kernel()\n",
    "print('CCSD total energy', myci.e_tot)\n",
    "\n",
    "\n",
    "#print(mf.make_rdm1())\n",
    "myci.make_rdm1()\n",
    "dir(myci)"
   ]
  },
  {
   "cell_type": "code",
   "execution_count": 3,
   "metadata": {},
   "outputs": [],
   "source": [
    "from pyita.io.fchk import fchk\n",
    "\n",
    "fchk_from_pyscf = fchk.from_pyscf('Default Title', mf, post_scf=mycc)\n",
    "fchk_from_pyscf.dump_fchk('from_pyscf')"
   ]
  },
  {
   "cell_type": "code",
   "execution_count": 4,
   "metadata": {},
   "outputs": [],
   "source": [
    "#fchk_from_file = fchk.from_file('./from_pyscf.fchk')\n",
    "#fchk_from_file.dataset"
   ]
  },
  {
   "cell_type": "code",
   "execution_count": 5,
   "metadata": {},
   "outputs": [],
   "source": [
    "#mf = fchk_from_file.dump_scf\n",
    "#mf.kernel()"
   ]
  },
  {
   "cell_type": "code",
   "execution_count": null,
   "metadata": {},
   "outputs": [],
   "source": []
  }
 ],
 "metadata": {
  "kernelspec": {
   "display_name": "base",
   "language": "python",
   "name": "python3"
  },
  "language_info": {
   "codemirror_mode": {
    "name": "ipython",
    "version": 3
   },
   "file_extension": ".py",
   "mimetype": "text/x-python",
   "name": "python",
   "nbconvert_exporter": "python",
   "pygments_lexer": "ipython3",
   "version": "3.11.4"
  },
  "orig_nbformat": 4
 },
 "nbformat": 4,
 "nbformat_minor": 2
}
