{
 "cells": [
  {
   "cell_type": "code",
   "execution_count": 6,
   "metadata": {},
   "outputs": [
    {
     "data": {
      "text/plain": [
       "-148.6118045450368"
      ]
     },
     "execution_count": 6,
     "metadata": {},
     "output_type": "execute_result"
    }
   ],
   "source": [
    "from pyscf import gto, scf, dft\n",
    "from pyscf.scf.hf import SCF, RHF\n",
    "from pyscf.dft.rks import KohnShamDFT\n",
    "\n",
    "mol = gto.Mole()\n",
    "mol.atom = \"\"\"\n",
    "O  0.0  0.0  0.0\n",
    "O  0.0  0.0  1.5\n",
    "H  1.0  0.0  0.0\n",
    "H  0.0  0.7  1.0\n",
    "\"\"\"\n",
    "#mol.basis = \"6-31G\"\n",
    "mol.basis = \"sto-3G\"\n",
    "mol.charge = 0\n",
    "mol.multiplicity = 1\n",
    "mol.verbose = 0\n",
    "mol.unit = 'A'\n",
    "mol.build()\n",
    "\n",
    "mf = scf.HF(mol)\n",
    "mf.xc = 'm062x'\n",
    "mf.kernel()"
   ]
  },
  {
   "cell_type": "code",
   "execution_count": 26,
   "metadata": {},
   "outputs": [
    {
     "name": "stdout",
     "output_type": "stream",
     "text": [
      "-147.39954833787195\n"
     ]
    },
    {
     "data": {
      "text/plain": [
       "-117.91981072359334"
      ]
     },
     "execution_count": 26,
     "metadata": {},
     "output_type": "execute_result"
    }
   ],
   "source": [
    "from pyscf.scf import atom_hf\n",
    "\n",
    "myhf = atom_hf.get_atm_nrhf(mol)\n",
    "myhf\n",
    "print(myhf['O'][0]*2+myhf['H'][0]*2)\n",
    "atom_hf.AtomSphericAverageRHF(mol).build().kernel()"
   ]
  }
 ],
 "metadata": {
  "kernelspec": {
   "display_name": "base",
   "language": "python",
   "name": "python3"
  },
  "language_info": {
   "codemirror_mode": {
    "name": "ipython",
    "version": 3
   },
   "file_extension": ".py",
   "mimetype": "text/x-python",
   "name": "python",
   "nbconvert_exporter": "python",
   "pygments_lexer": "ipython3",
   "version": "3.11.4"
  }
 },
 "nbformat": 4,
 "nbformat_minor": 2
}
