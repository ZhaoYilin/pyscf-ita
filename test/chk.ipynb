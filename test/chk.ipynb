{
 "cells": [
  {
   "cell_type": "code",
   "execution_count": 60,
   "metadata": {},
   "outputs": [
    {
     "name": "stdout",
     "output_type": "stream",
     "text": [
      "converged SCF energy = -108.914051975052\n",
      "(28, 28)\n",
      "-108.91405197505203\n"
     ]
    },
    {
     "name": "stderr",
     "output_type": "stream",
     "text": [
      "WARN: Attribute .hf_energy will be removed in PySCF v1.1. It is replaced by attribute .e_tot\n"
     ]
    }
   ],
   "source": [
    "#!/usr/bin/env python\n",
    "\n",
    "'''\n",
    "This example shows how to access the data stored in checkpoint file,\n",
    "Also how to quickly update an object using the data from the checkpoint file.\n",
    "'''\n",
    "\n",
    "import numpy as np\n",
    "import h5py\n",
    "from pyscf import gto, scf, ci\n",
    "from pyscf.lib import chkfile\n",
    "\n",
    "mol = gto.M(atom='N 0 0 0; N 0 0 1.2', basis='ccpvdz')\n",
    "mf = scf.RHF(mol)\n",
    "mf.chkfile = 'example.chk'\n",
    "mf.run()\n",
    "\n",
    "print(mf.mo_coeff.shape)\n",
    "mf.mo_coeff = np.ones((28,28))\n"
   ]
  },
  {
   "cell_type": "code",
   "execution_count": 59,
   "metadata": {},
   "outputs": [
    {
     "name": "stdout",
     "output_type": "stream",
     "text": [
      "E(HF) from chkfile = -108.91405197505203\n",
      "<KeysViewHDF5 ['cisd', 'mol', 'scf']>\n",
      "<HDF5 dataset \"mol\": shape (), type \"|O\">\n",
      "<KeysViewHDF5 ['e_tot', 'mo_coeff', 'mo_energy', 'mo_occ']>\n",
      "(28, 28)\n",
      "<class 'h5py._hl.dataset.Dataset'>\n",
      "['__array__', '__bool__', '__class__', '__delattr__', '__dict__', '__dir__', '__doc__', '__eq__', '__format__', '__ge__', '__getattribute__', '__getitem__', '__getnewargs__', '__getstate__', '__gt__', '__hash__', '__init__', '__init_subclass__', '__iter__', '__le__', '__len__', '__lt__', '__module__', '__ne__', '__new__', '__nonzero__', '__reduce__', '__reduce_ex__', '__repr__', '__setattr__', '__setitem__', '__sizeof__', '__str__', '__subclasshook__', '__weakref__', '_cache_props', '_d', '_dcpl', '_dxpl', '_e', '_extent_type', '_fast_read_ok', '_fast_reader', '_filters', '_id', '_is_empty', '_lapl', '_lcpl', '_readonly', '_selector', 'asstr', 'astype', 'attrs', 'chunks', 'compression', 'compression_opts', 'dims', 'dtype', 'external', 'fields', 'file', 'fillvalue', 'fletcher32', 'flush', 'id', 'is_scale', 'is_virtual', 'iter_chunks', 'len', 'make_scale', 'maxshape', 'name', 'nbytes', 'ndim', 'parent', 'read_direct', 'ref', 'refresh', 'regionref', 'resize', 'scaleoffset', 'shape', 'shuffle', 'size', 'virtual_sources', 'write_direct']\n",
      "<HDF5 dataset \"e_tot\": shape (), type \"<f8\">\n"
     ]
    }
   ],
   "source": [
    "\n",
    "scf_result_dic = chkfile.load('example.chk', 'scf')\n",
    "mf_new = scf.RHF(mol)\n",
    "mf_new.__dict__.update(scf_result_dic)\n",
    "print('E(HF) from chkfile = %s' % mf.e_tot)\n",
    "\n",
    "\n",
    "with h5py.File('example.chk') as f:\n",
    "    print(f.keys())\n",
    "    print(f['mol'])\n",
    "    print(f['scf'].keys())\n",
    "    print(f['scf']['mo_coeff'][:].shape)\n",
    "    print(type(f['scf']['e_tot']))\n",
    "    print(dir(f['scf']['e_tot']))\n",
    "    print(f['scf']['e_tot'])\n"
   ]
  },
  {
   "cell_type": "code",
   "execution_count": 52,
   "metadata": {},
   "outputs": [
    {
     "name": "stdout",
     "output_type": "stream",
     "text": [
      "Keys: <KeysViewHDF5 ['cisd', 'mol', 'scf']>\n",
      "<class 'h5py._hl.group.Group'>\n"
     ]
    },
    {
     "ename": "TypeError",
     "evalue": "Accessing a group is done with bytes or str, not <class 'tuple'>",
     "output_type": "error",
     "traceback": [
      "\u001b[0;31m---------------------------------------------------------------------------\u001b[0m",
      "\u001b[0;31mTypeError\u001b[0m                                 Traceback (most recent call last)",
      "\u001b[1;32m/Users/yilin/Documents/GitHub/pyita/test/chk.ipynb 单元格 2\u001b[0m line \u001b[0;36m2\n\u001b[1;32m     <a href='vscode-notebook-cell:/Users/yilin/Documents/GitHub/pyita/test/chk.ipynb#W1sZmlsZQ%3D%3D?line=20'>21</a>\u001b[0m \u001b[39m# preferred methods to get dataset values:\u001b[39;00m\n\u001b[1;32m     <a href='vscode-notebook-cell:/Users/yilin/Documents/GitHub/pyita/test/chk.ipynb#W1sZmlsZQ%3D%3D?line=21'>22</a>\u001b[0m ds_obj \u001b[39m=\u001b[39m f[a_group_key]      \u001b[39m# returns as a h5py dataset object\u001b[39;00m\n\u001b[0;32m---> <a href='vscode-notebook-cell:/Users/yilin/Documents/GitHub/pyita/test/chk.ipynb#W1sZmlsZQ%3D%3D?line=22'>23</a>\u001b[0m ds_arr \u001b[39m=\u001b[39m f[a_group_key][()]\n",
      "File \u001b[0;32mh5py/_objects.pyx:54\u001b[0m, in \u001b[0;36mh5py._objects.with_phil.wrapper\u001b[0;34m()\u001b[0m\n",
      "File \u001b[0;32mh5py/_objects.pyx:55\u001b[0m, in \u001b[0;36mh5py._objects.with_phil.wrapper\u001b[0;34m()\u001b[0m\n",
      "File \u001b[0;32m/usr/local/Caskroom/miniconda/base/lib/python3.11/site-packages/h5py/_hl/group.py:359\u001b[0m, in \u001b[0;36mGroup.__getitem__\u001b[0;34m(self, name)\u001b[0m\n\u001b[1;32m    357\u001b[0m     oid \u001b[39m=\u001b[39m h5o\u001b[39m.\u001b[39mopen(\u001b[39mself\u001b[39m\u001b[39m.\u001b[39mid, \u001b[39mself\u001b[39m\u001b[39m.\u001b[39m_e(name), lapl\u001b[39m=\u001b[39m\u001b[39mself\u001b[39m\u001b[39m.\u001b[39m_lapl)\n\u001b[1;32m    358\u001b[0m \u001b[39melse\u001b[39;00m:\n\u001b[0;32m--> 359\u001b[0m     \u001b[39mraise\u001b[39;00m \u001b[39mTypeError\u001b[39;00m(\u001b[39m\"\u001b[39m\u001b[39mAccessing a group is done with bytes or str, \u001b[39m\u001b[39m\"\u001b[39m\n\u001b[1;32m    360\u001b[0m                     \u001b[39m\"\u001b[39m\u001b[39mnot \u001b[39m\u001b[39m{}\u001b[39;00m\u001b[39m\"\u001b[39m\u001b[39m.\u001b[39mformat(\u001b[39mtype\u001b[39m(name)))\n\u001b[1;32m    362\u001b[0m otype \u001b[39m=\u001b[39m h5i\u001b[39m.\u001b[39mget_type(oid)\n\u001b[1;32m    363\u001b[0m \u001b[39mif\u001b[39;00m otype \u001b[39m==\u001b[39m h5i\u001b[39m.\u001b[39mGROUP:\n",
      "\u001b[0;31mTypeError\u001b[0m: Accessing a group is done with bytes or str, not <class 'tuple'>"
     ]
    }
   ],
   "source": [
    "import h5py\n",
    "filename = \"example.chk\"\n",
    "\n",
    "with h5py.File(filename, \"r\") as f:\n",
    "    # Print all root level object names (aka keys) \n",
    "    # these can be group or dataset names \n",
    "    print(\"Keys: %s\" % f.keys())\n",
    "    # get first object name/key; may or may NOT be a group\n",
    "    a_group_key = list(f.keys())[0]\n",
    "\n",
    "    # get the object type for a_group_key: usually group or dataset\n",
    "    print(type(f[a_group_key])) \n",
    "\n",
    "    # If a_group_key is a group name, \n",
    "    # this gets the object names in the group and returns as a list\n",
    "    data = list(f[a_group_key])\n",
    "\n",
    "    # If a_group_key is a dataset name, \n",
    "    # this gets the dataset values and returns as a list\n",
    "    data = list(f[a_group_key])\n",
    "    # preferred methods to get dataset values:\n",
    "    ds_obj = f[a_group_key]      # returns as a h5py dataset object\n",
    "    ds_arr = f[a_group_key][()]  # returns as a numpy array"
   ]
  }
 ],
 "metadata": {
  "kernelspec": {
   "display_name": "base",
   "language": "python",
   "name": "python3"
  },
  "language_info": {
   "codemirror_mode": {
    "name": "ipython",
    "version": 3
   },
   "file_extension": ".py",
   "mimetype": "text/x-python",
   "name": "python",
   "nbconvert_exporter": "python",
   "pygments_lexer": "ipython3",
   "version": "3.11.4"
  },
  "orig_nbformat": 4
 },
 "nbformat": 4,
 "nbformat_minor": 2
}
