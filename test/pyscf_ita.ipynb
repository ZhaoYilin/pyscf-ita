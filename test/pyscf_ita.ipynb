{
 "cells": [
  {
   "cell_type": "code",
   "execution_count": 1,
   "metadata": {},
   "outputs": [
    {
     "data": {
      "text/plain": [
       "(2, 22)"
      ]
     },
     "execution_count": 1,
     "metadata": {},
     "output_type": "execute_result"
    }
   ],
   "source": [
    "from pyscf import gto, scf\n",
    "import numpy as np\n",
    "mol = gto.Mole()\n",
    "mol.atom = \"\"\"\n",
    "8  0.0  0.0  0.0\n",
    "O  0.0  0.0  1.5\n",
    "H  1.0  0.0  0.0\n",
    "H  0.0  0.7  1.0\n",
    "\"\"\"\n",
    "mol.basis = \"6-31G\"\n",
    "mol.charge = 0\n",
    "mol.multiplicity = 1\n",
    "mol.verbose = 0\n",
    "mol.unit = 'A'\n",
    "mol.build()\n",
    "\n",
    "\n",
    "mf = scf.UHF(mol)\n",
    "mf.kernel()\n",
    "\n",
    "mf.mol.nelectron\n",
    "\n",
    "mf.mo_coeff.shape\n",
    "mf.mo_occ.shape"
   ]
  },
  {
   "cell_type": "code",
   "execution_count": 2,
   "metadata": {},
   "outputs": [
    {
     "name": "stdout",
     "output_type": "stream",
     "text": [
      "False\n"
     ]
    },
    {
     "name": "stderr",
     "output_type": "stream",
     "text": [
      "/usr/local/Caskroom/miniconda/base/lib/python3.11/site-packages/pyscf/dft/libxc.py:772: UserWarning: Since PySCF-2.3, B3LYP (and B3P86) are changed to the VWN-RPA variant, the same to the B3LYP functional in Gaussian and ORCA (issue 1480). To restore the VWN5 definition, you can put the setting \"B3LYP_WITH_VWN5 = True\" in pyscf_conf.py\n",
      "  warnings.warn('Since PySCF-2.3, B3LYP (and B3P86) are changed to the VWN-RPA variant, '\n"
     ]
    },
    {
     "data": {
      "text/plain": [
       "pyscf.mcscf.casci.CASCI"
      ]
     },
     "execution_count": 2,
     "metadata": {},
     "output_type": "execute_result"
    }
   ],
   "source": [
    "from pyscf import mp, ci, cc, mcscf\n",
    "from pyscf.scf.hf import SCF\n",
    "\n",
    "mymp = mp.MP2(mf).run()\n",
    "myci = ci.CISD(mf).run()\n",
    "mycc = cc.CCSD(mf).run()\n",
    "\n",
    "#noons, natorbs = mcscf.addons.make_natural_orbitals(mymp)\n",
    "ncas, nelecas = (6,8)\n",
    "mycas = mcscf.CASCI(mf, ncas, nelecas)\n",
    "mycas.kernel()\n",
    "\n",
    "mycas.make_rdm1().shape\n",
    "\n",
    "print(isinstance(mycas,SCF))\n",
    "type(mycas)\n",
    "\n",
    "#mycas._scf"
   ]
  },
  {
   "cell_type": "code",
   "execution_count": 3,
   "metadata": {},
   "outputs": [
    {
     "data": {
      "text/plain": [
       "90600"
      ]
     },
     "execution_count": 3,
     "metadata": {},
     "output_type": "execute_result"
    }
   ],
   "source": [
    "from pyscf import dft\n",
    "\n",
    "grids = dft.Grids(mol)\n",
    "grids.atom_grid = (75, 302)\n",
    "grids.becke_scheme\n",
    "grids.prune = True\n",
    "grids.build()\n",
    "\n",
    "\n",
    "grids.size"
   ]
  },
  {
   "cell_type": "code",
   "execution_count": 4,
   "metadata": {},
   "outputs": [
    {
     "ename": "KeyError",
     "evalue": "'O'",
     "output_type": "error",
     "traceback": [
      "\u001b[0;31m---------------------------------------------------------------------------\u001b[0m",
      "\u001b[0;31mKeyError\u001b[0m                                  Traceback (most recent call last)",
      "Cell \u001b[0;32mIn[4], line 16\u001b[0m\n\u001b[1;32m     14\u001b[0m ita\u001b[38;5;241m.\u001b[39mpromol_mults \u001b[38;5;241m=\u001b[39m {\u001b[38;5;124m'\u001b[39m\u001b[38;5;124mH\u001b[39m\u001b[38;5;124m'\u001b[39m:\u001b[38;5;241m2\u001b[39m, \u001b[38;5;124m'\u001b[39m\u001b[38;5;124mO\u001b[39m\u001b[38;5;124m'\u001b[39m:\u001b[38;5;241m3\u001b[39m}\n\u001b[1;32m     15\u001b[0m ita\u001b[38;5;241m.\u001b[39mrung \u001b[38;5;241m=\u001b[39m [\u001b[38;5;241m3\u001b[39m,\u001b[38;5;241m3\u001b[39m]\n\u001b[0;32m---> 16\u001b[0m ita\u001b[38;5;241m.\u001b[39mbuild() \n\u001b[1;32m     18\u001b[0m \u001b[38;5;66;03m#batch_compute(ita, ita_code=[11,12,14,15,16,21,22], filename='./log/pyscf_ita1.log')\u001b[39;00m\n\u001b[1;32m     19\u001b[0m \u001b[38;5;66;03m#batch_compute(ita, ita_code=[11, 12, 13, 14, 15, 16, 21,24,25,26], filename='./log/pyscf_ita1.log')\u001b[39;00m\n\u001b[1;32m     20\u001b[0m \u001b[38;5;66;03m#batch_compute(ita, ita_code=[11,14,15,21,31], filename='./log/pyscf_ita1.log')\u001b[39;00m\n\u001b[1;32m     21\u001b[0m batch_compute(ita, ita_code\u001b[38;5;241m=\u001b[39m[\u001b[38;5;241m11\u001b[39m,\u001b[38;5;241m12\u001b[39m,\u001b[38;5;241m13\u001b[39m,\u001b[38;5;241m14\u001b[39m,\u001b[38;5;241m15\u001b[39m,\u001b[38;5;241m16\u001b[39m,\u001b[38;5;241m17\u001b[39m,\u001b[38;5;241m21\u001b[39m,\u001b[38;5;241m22\u001b[39m,\u001b[38;5;241m23\u001b[39m,\u001b[38;5;241m24\u001b[39m,\u001b[38;5;241m25\u001b[39m,\u001b[38;5;241m26\u001b[39m], filename\u001b[38;5;241m=\u001b[39m\u001b[38;5;124m'\u001b[39m\u001b[38;5;124m./log/pyscf_ita1.log\u001b[39m\u001b[38;5;124m'\u001b[39m)\n",
      "File \u001b[0;32m~/Documents/GitHub/pyscf-ita/pyscf/ita/ita.py:121\u001b[0m, in \u001b[0;36mITA.build\u001b[0;34m(self, method, grids, rung, pro_charge, pro_multiplicity, representation, partition, spin)\u001b[0m\n\u001b[1;32m    116\u001b[0m \u001b[38;5;28mself\u001b[39m\u001b[38;5;241m.\u001b[39mmoldens \u001b[38;5;241m=\u001b[39m moldens\n\u001b[1;32m    120\u001b[0m \u001b[38;5;66;03m# Build promolecule electron density and free atom electron density\u001b[39;00m\n\u001b[0;32m--> 121\u001b[0m promol \u001b[38;5;241m=\u001b[39m ProMolecule\u001b[38;5;241m.\u001b[39mbuild(method, pro_charge, pro_multiplicity)\n\u001b[1;32m    122\u001b[0m promoldens \u001b[38;5;241m=\u001b[39m promol\u001b[38;5;241m.\u001b[39melectron_density(grids\u001b[38;5;241m.\u001b[39mcoords, spin\u001b[38;5;241m=\u001b[39mspin, deriv\u001b[38;5;241m=\u001b[39m\u001b[38;5;28mself\u001b[39m\u001b[38;5;241m.\u001b[39mrung[\u001b[38;5;241m1\u001b[39m]\u001b[38;5;241m-\u001b[39m\u001b[38;5;241m1\u001b[39m)\n\u001b[1;32m    123\u001b[0m \u001b[38;5;28mself\u001b[39m\u001b[38;5;241m.\u001b[39mpromoldens \u001b[38;5;241m=\u001b[39m promoldens\n",
      "File \u001b[0;32m~/Documents/GitHub/pyscf-ita/pyscf/ita/promolecule.py:110\u001b[0m, in \u001b[0;36mProMolecule.build\u001b[0;34m(cls, method, pro_charge, pro_multiplicity)\u001b[0m\n\u001b[1;32m    108\u001b[0m atom\u001b[38;5;241m.\u001b[39matom \u001b[38;5;241m=\u001b[39m [[element, \u001b[38;5;241m0.0\u001b[39m, \u001b[38;5;241m0.0\u001b[39m, \u001b[38;5;241m0.0\u001b[39m]]\n\u001b[1;32m    109\u001b[0m atom\u001b[38;5;241m.\u001b[39mbasis \u001b[38;5;241m=\u001b[39m mol\u001b[38;5;241m.\u001b[39mbasis\n\u001b[0;32m--> 110\u001b[0m atom\u001b[38;5;241m.\u001b[39mcharge \u001b[38;5;241m=\u001b[39m pro_charge[element]\n\u001b[1;32m    111\u001b[0m atom\u001b[38;5;241m.\u001b[39mmultiplicity \u001b[38;5;241m=\u001b[39m pro_multiplicity[element]\n\u001b[1;32m    112\u001b[0m atom\u001b[38;5;241m.\u001b[39munit \u001b[38;5;241m=\u001b[39m mol\u001b[38;5;241m.\u001b[39munit\n",
      "\u001b[0;31mKeyError\u001b[0m: 'O'"
     ]
    }
   ],
   "source": [
    "from pyscf.ita.ita import ITA\n",
    "from pyscf.ita.script import batch_compute\n",
    "\n",
    "ita = ITA()\n",
    "ita.method = mf\n",
    "ita.grids = grids\n",
    "#ita.representation = 'electron density'\n",
    "ita.representation = 'shape function'\n",
    "#ita.representation = 'atoms in molecules'\n",
    "\n",
    "ita.partition = 'Hirshfeld'\n",
    "ita.spin = 'ab'\n",
    "ita.promol_charges = {'H':0, 'O':0}\n",
    "ita.promol_mults = {'H':2, 'O':3}\n",
    "ita.rung = [3,3]\n",
    "ita.build() \n",
    "\n",
    "#batch_compute(ita, ita_code=[11,12,14,15,16,21,22], filename='./log/pyscf_ita1.log')\n",
    "#batch_compute(ita, ita_code=[11, 12, 13, 14, 15, 16, 21,24,25,26], filename='./log/pyscf_ita1.log')\n",
    "#batch_compute(ita, ita_code=[11,14,15,21,31], filename='./log/pyscf_ita1.log')\n",
    "batch_compute(ita, ita_code=[11,12,13,14,15,16,17,21,22,23,24,25,26], filename='./log/pyscf_ita1.log')\n",
    "#batch_compute(ita, ita_code=[11,12,13,14,15,16,17,21,22,23,24,25,26,28,29,30], filename='./log/pyscf_ita1.log')\n",
    "exit()"
   ]
  }
 ],
 "metadata": {
  "kernelspec": {
   "display_name": "base",
   "language": "python",
   "name": "python3"
  },
  "language_info": {
   "codemirror_mode": {
    "name": "ipython",
    "version": 3
   },
   "file_extension": ".py",
   "mimetype": "text/x-python",
   "name": "python",
   "nbconvert_exporter": "python",
   "pygments_lexer": "ipython3",
   "version": "3.11.4"
  },
  "orig_nbformat": 4
 },
 "nbformat": 4,
 "nbformat_minor": 2
}
