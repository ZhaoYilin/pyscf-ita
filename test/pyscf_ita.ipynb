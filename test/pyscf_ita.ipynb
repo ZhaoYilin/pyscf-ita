{
 "cells": [
  {
   "cell_type": "code",
   "execution_count": 1,
   "metadata": {},
   "outputs": [
    {
     "data": {
      "text/plain": [
       "4"
      ]
     },
     "execution_count": 1,
     "metadata": {},
     "output_type": "execute_result"
    }
   ],
   "source": [
    "from pyscf import gto, scf\n",
    "import numpy as np\n",
    "mol = gto.Mole()\n",
    "mol.atom = \"\"\"\n",
    "8  0.0  0.0  0.0\n",
    "O  0.0  0.0  1.5\n",
    "H  1.0  0.0  0.0\n",
    "H  0.0  0.7  1.0\n",
    "\"\"\"\n",
    "mol.basis = \"6-31G\"\n",
    "mol.charge = 0\n",
    "mol.multiplicity = 1\n",
    "mol.verbose = 0\n",
    "mol.unit = 'A'\n",
    "mol.build()\n",
    "\n",
    "mf = scf.HF(mol)\n",
    "#mf.xc = 'm062x'\n",
    "mf.kernel()\n",
    "\n",
    "mf.mo_coeff.shape\n",
    "#mf.mo_occ.shape\n",
    "mol.natm"
   ]
  },
  {
   "cell_type": "code",
   "execution_count": 2,
   "metadata": {},
   "outputs": [
    {
     "data": {
      "text/plain": [
       "pyscf.mcscf.casci.CASCI"
      ]
     },
     "execution_count": 2,
     "metadata": {},
     "output_type": "execute_result"
    }
   ],
   "source": [
    "from pyscf import mp, ci, cc, mcscf\n",
    "from pyscf.scf.hf import SCF\n",
    "\n",
    "mymp = mp.MP2(mf).run()\n",
    "myci = ci.CISD(mf).run()\n",
    "mycc = cc.CCSD(mf).run()\n",
    "\n",
    "#noons, natorbs = mcscf.addons.make_natural_orbitals(mymp)\n",
    "ncas, nelecas = (6,8)\n",
    "mycas = mcscf.CASCI(mf, ncas, nelecas)\n",
    "mycas.kernel()\n",
    "\n",
    "mycas.make_rdm1().shape\n",
    "\n",
    "isinstance(mycas,SCF)\n",
    "type(mycas)"
   ]
  },
  {
   "cell_type": "code",
   "execution_count": 3,
   "metadata": {},
   "outputs": [
    {
     "name": "stderr",
     "output_type": "stream",
     "text": [
      "/usr/local/Caskroom/miniconda/base/lib/python3.11/site-packages/pyscf/dft/libxc.py:772: UserWarning: Since PySCF-2.3, B3LYP (and B3P86) are changed to the VWN-RPA variant, the same to the B3LYP functional in Gaussian and ORCA (issue 1480). To restore the VWN5 definition, you can put the setting \"B3LYP_WITH_VWN5 = True\" in pyscf_conf.py\n",
      "  warnings.warn('Since PySCF-2.3, B3LYP (and B3P86) are changed to the VWN-RPA variant, '\n"
     ]
    },
    {
     "data": {
      "text/plain": [
       "<pyscf.dft.gen_grid.Grids at 0x10e3253d0>"
      ]
     },
     "execution_count": 3,
     "metadata": {},
     "output_type": "execute_result"
    }
   ],
   "source": [
    "from pyscf import dft\n",
    "\n",
    "grids = dft.Grids(mol)\n",
    "grids.atom_grid = (75, 302)\n",
    "grids.becke_scheme\n",
    "grids.prune = True\n",
    "grids.build()"
   ]
  },
  {
   "cell_type": "code",
   "execution_count": 4,
   "metadata": {},
   "outputs": [
    {
     "name": "stdout",
     "output_type": "stream",
     "text": [
      "([], 9.469628670855387)\n",
      "([48.895363123444994, 49.91942135364945, 9.198574369447064, 11.86586239277361], 119.8792212393151)\n"
     ]
    }
   ],
   "source": [
    "from pyscf.ita.ita import ITA\n",
    "\n",
    "ita = ITA()\n",
    "ita.method = mf\n",
    "ita.grids = grids\n",
    "ita.spin = 'ab'\n",
    "ita.promol_charges = {'H':0, 'O':0}\n",
    "ita.promol_mults = {'H':2, 'O':3}\n",
    "ita.rung = [3,1]\n",
    "ita.build() \n",
    "\n",
    "#ita.compute(ita_code=[11,12,13,21,22], filename='./log/pyscf_ita.log')\n",
    "\n",
    "print(ita.shannon_entropy)\n",
    "print(ita.GBP_entropy())"
   ]
  }
 ],
 "metadata": {
  "kernelspec": {
   "display_name": "base",
   "language": "python",
   "name": "python3"
  },
  "language_info": {
   "codemirror_mode": {
    "name": "ipython",
    "version": 3
   },
   "file_extension": ".py",
   "mimetype": "text/x-python",
   "name": "python",
   "nbconvert_exporter": "python",
   "pygments_lexer": "ipython3",
   "version": "3.11.4"
  },
  "orig_nbformat": 4
 },
 "nbformat": 4,
 "nbformat_minor": 2
}
