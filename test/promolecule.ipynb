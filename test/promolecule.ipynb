{
 "cells": [
  {
   "cell_type": "code",
   "execution_count": 1,
   "metadata": {},
   "outputs": [
    {
     "name": "stderr",
     "output_type": "stream",
     "text": [
      "/usr/local/Caskroom/miniconda/base/lib/python3.11/site-packages/pyscf/dft/libxc.py:772: UserWarning: Since PySCF-2.3, B3LYP (and B3P86) are changed to the VWN-RPA variant, the same to the B3LYP functional in Gaussian and ORCA (issue 1480). To restore the VWN5 definition, you can put the setting \"B3LYP_WITH_VWN5 = True\" in pyscf_conf.py\n",
      "  warnings.warn('Since PySCF-2.3, B3LYP (and B3P86) are changed to the VWN-RPA variant, '\n"
     ]
    },
    {
     "data": {
      "text/plain": [
       "-150.58503378083833"
      ]
     },
     "execution_count": 1,
     "metadata": {},
     "output_type": "execute_result"
    }
   ],
   "source": [
    "from pyscf import gto, scf, dft\n",
    "from pyscf.scf.hf import SCF, RHF\n",
    "from pyscf.dft.rks import KohnShamDFT\n",
    "import numpy as np\n",
    "\n",
    "mol = gto.Mole()\n",
    "mol.atom = \"\"\"\n",
    "O  0.0  0.0  0.0\n",
    "O  0.0  0.0  1.5\n",
    "H  1.0  0.0  0.0\n",
    "H  0.0  0.7  1.0\n",
    "\"\"\"\n",
    "mol.basis = \"6-31G\"\n",
    "mol.charge = 0\n",
    "mol.multiplicity = 1\n",
    "mol.verbose = 0\n",
    "mol.unit = 'A'\n",
    "mol.build()\n",
    "\n",
    "mf = scf.HF(mol)\n",
    "mf.kernel()"
   ]
  },
  {
   "cell_type": "code",
   "execution_count": 13,
   "metadata": {},
   "outputs": [
    {
     "name": "stdout",
     "output_type": "stream",
     "text": [
      "<pyscf.gto.mole.Mole object at 0x1120525d0>\n",
      "[2. 2. 2. 2. 2. 2. 2. 2. 2. 0. 0. 0. 0. 0. 0. 0. 0. 0. 0. 0. 0. 0.]\n"
     ]
    },
    {
     "data": {
      "text/plain": [
       "(22, 9)"
      ]
     },
     "execution_count": 13,
     "metadata": {},
     "output_type": "execute_result"
    }
   ],
   "source": [
    "print(mf.mol)\n",
    "print(mf.mo_occ)\n",
    "mo = mf.mo_coeff[:,mf.mo_occ>0]\n",
    "mo.shape"
   ]
  },
  {
   "cell_type": "code",
   "execution_count": 3,
   "metadata": {},
   "outputs": [
    {
     "data": {
      "text/plain": [
       "array([ 1.5390297 ,  2.03346446,  2.76800778, ..., 26.97613462,\n",
       "        7.41030939,  3.58428041])"
      ]
     },
     "execution_count": 3,
     "metadata": {},
     "output_type": "execute_result"
    }
   ],
   "source": [
    "from pyscf import dft\n",
    "\n",
    "grids = dft.Grids(mol)\n",
    "grids.prune = True\n",
    "grids.atom_grid = (75, 302)\n",
    "grids.becke_scheme\n",
    "grids.build()\n",
    "grids.coords\n",
    "grids.weights"
   ]
  },
  {
   "cell_type": "code",
   "execution_count": 4,
   "metadata": {},
   "outputs": [
    {
     "data": {
      "text/plain": [
       "[masked_array(data=[0.10641337474454587, 0.024886912892937214,\n",
       "                    0.0035205811319592916, ..., --, --, --],\n",
       "              mask=[False, False, False, ...,  True,  True,  True],\n",
       "        fill_value=1e+20),\n",
       " masked_array(data=[2.033826015569823e-09, 1.6045017484500194e-10,\n",
       "                    6.535001110506969e-12, ..., --, --, --],\n",
       "              mask=[False, False, False, ...,  True,  True,  True],\n",
       "        fill_value=1e+20),\n",
       " masked_array(data=[0.8826260061671842, 0.966195039706771,\n",
       "                    0.9899817499329502, ..., --, --, --],\n",
       "              mask=[False, False, False, ...,  True,  True,  True],\n",
       "        fill_value=1e+20),\n",
       " masked_array(data=[0.010960617054443796, 0.008918047239841466,\n",
       "                    0.006497668928555538, ..., --, --, --],\n",
       "              mask=[False, False, False, ...,  True,  True,  True],\n",
       "        fill_value=1e+20)]"
      ]
     },
     "execution_count": 4,
     "metadata": {},
     "output_type": "execute_result"
    }
   ],
   "source": [
    "from pyscf.ita.promolecule import ProMolecule\n",
    "from pyscf.ita.dens import ElectronDensity\n",
    "\n",
    "moldens = ElectronDensity.build(mf, grids.coords, deriv=2)\n",
    "\n",
    "promol = ProMolecule.build(mf)\n",
    "promoldens = promol.electron_density(grids.coords, deriv=2)\n",
    "\n",
    "\n",
    "omega = [free_atom_dens.density()/promoldens.density(mask=True) for free_atom_dens in promoldens]\n",
    "omega"
   ]
  },
  {
   "cell_type": "code",
   "execution_count": 12,
   "metadata": {},
   "outputs": [
    {
     "name": "stdout",
     "output_type": "stream",
     "text": [
      "4.726641555262969\n",
      "5.086179660002727\n",
      "3.026751166766153\n",
      "3.9195370232701765\n",
      "16.759109405302027\n",
      "********************\n",
      "0.08319775262458665\n",
      "-0.3425156445442316\n",
      "-0.803871265123158\n",
      "-0.7229910761129875\n",
      "-1.7861802331557906\n",
      "********************\n",
      "-1.0777847623221917\n",
      "-1.7437226107194514\n",
      "0.5656653646436954\n",
      "0.5059641917910251\n",
      "-1.7498778166069229\n"
     ]
    },
    {
     "data": {
      "text/plain": [
       "-1.7498778166069229"
      ]
     },
     "execution_count": 12,
     "metadata": {},
     "output_type": "execute_result"
    }
   ],
   "source": [
    "def relative_fisher_information(grids_weights, omega, moldens, promoldens):\n",
    "    total = 0.0\n",
    "    for i, omega_i in enumerate(omega):\n",
    "        rho = moldens.density(mask=True)[np.newaxis,:]\n",
    "        prorho = promoldens[i].density(mask=True)[np.newaxis,:]\n",
    "\n",
    "        a = (moldens.gradient()/rho)\n",
    "        b = (promoldens[i].gradient()/prorho)\n",
    "        c = np.linalg.norm(a-b, axis=0)**2\n",
    "\n",
    "        kernel = moldens.density()*omega_i*c\n",
    "\n",
    "        d = (grids_weights * kernel).sum()\n",
    "        print(d)\n",
    "        total = total + d\n",
    "    print(total)\n",
    "    return total\n",
    "\n",
    "def relative_alternative_fisher_information(grids_weights, omega, moldens, promoldens):\n",
    "    total = 0.0\n",
    "    for _, omega_i in enumerate(omega):\n",
    "        rho = moldens.density()\n",
    "        prorho = promoldens.density(mask=True)    \n",
    "\n",
    "        kernel = moldens.laplacian()*omega_i*np.ma.log(rho/prorho)\n",
    "\n",
    "        c = (grids_weights * kernel).sum()\n",
    "        print(c)\n",
    "        total +=c\n",
    "\n",
    "    print(total)\n",
    "    return total\n",
    "\n",
    "def G2(grids_weights, omega, moldens, promoldens):\n",
    "    total = 0.\n",
    "    for _, omega_i in enumerate(omega):\n",
    "        a = (moldens.laplacian()/moldens.density(mask=True))\n",
    "        b = (promoldens.laplacian()/promoldens.density(mask=True))\n",
    "\n",
    "        kernel = moldens.density()*omega_i*(a-b)\n",
    "\n",
    "        d = (grids_weights * kernel).sum()\n",
    "        print(d)\n",
    "        total = total + d\n",
    "\n",
    "    print(total)\n",
    "    return total\n",
    "\n",
    "relative_fisher_information(grids.weights, omega, moldens, promoldens)\n",
    "print(\"*\"*20)\n",
    "#G1_function(grids.weights, omega, moldens, promol_dens)\n",
    "relative_alternative_fisher_information(grids.weights, omega, moldens, promoldens)\n",
    "print(\"*\"*20)\n",
    "\n",
    "#G1(grids.weights, omega, moldens, promol_dens, proatom_dens)\n",
    "G2(grids.weights, omega, moldens, promoldens)\n"
   ]
  }
 ],
 "metadata": {
  "kernelspec": {
   "display_name": "base",
   "language": "python",
   "name": "python3"
  },
  "language_info": {
   "codemirror_mode": {
    "name": "ipython",
    "version": 3
   },
   "file_extension": ".py",
   "mimetype": "text/x-python",
   "name": "python",
   "nbconvert_exporter": "python",
   "pygments_lexer": "ipython3",
   "version": "3.11.4"
  },
  "orig_nbformat": 4
 },
 "nbformat": 4,
 "nbformat_minor": 2
}
