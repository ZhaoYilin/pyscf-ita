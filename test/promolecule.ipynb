{
 "cells": [
  {
   "cell_type": "code",
   "execution_count": 31,
   "metadata": {},
   "outputs": [
    {
     "data": {
      "text/plain": [
       "-75.96282848422926"
      ]
     },
     "execution_count": 31,
     "metadata": {},
     "output_type": "execute_result"
    }
   ],
   "source": [
    "from pyscf import gto, scf, dft\n",
    "from pyscf.scf.hf import SCF, RHF\n",
    "from pyscf.dft.rks import KohnShamDFT\n",
    "import numpy as np\n",
    "\n",
    "mol = gto.Mole()\n",
    "mol.atom = \"\"\"\n",
    "O   0.000000000000  -0.143225816552   0.000000000000\n",
    "H   1.638036840407   1.136548822547  -0.000000000000\n",
    "H  -1.638036840407   1.136548822547  -0.000000000000\n",
    "\"\"\"\n",
    "mol.basis = \"6-31G\"\n",
    "mol.charge = 0\n",
    "mol.multiplicity = 1\n",
    "mol.verbose = 0\n",
    "mol.unit = 'A'\n",
    "mol.build()\n",
    "\n",
    "mf = dft.KS(mol)\n",
    "mf.xc='m062x'\n",
    "mf.kernel()"
   ]
  },
  {
   "cell_type": "code",
   "execution_count": 38,
   "metadata": {},
   "outputs": [
    {
     "data": {
      "text/plain": [
       "{'e1': -113.24291337193571,\n",
       " 'coul': 41.84820899649553,\n",
       " 'exc': -8.802794391316162,\n",
       " 'nuc': 4.234670282527097}"
      ]
     },
     "execution_count": 38,
     "metadata": {},
     "output_type": "execute_result"
    }
   ],
   "source": [
    "mf.scf_summary"
   ]
  },
  {
   "cell_type": "code",
   "execution_count": 42,
   "metadata": {},
   "outputs": [
    {
     "name": "stdout",
     "output_type": "stream",
     "text": [
      "Electronic kinetic energy (ET): 74.95859303365326\n",
      "Interelectronic Coulomb repulsion energy (EJ): 83.69641799299109\n",
      "Internuclear Coulomb repulsion energy (ENuc): 4.234670282527097\n",
      "Nuclear-electronic Coulomb attraction energy (EV): -188.20150640558896\n",
      "Energy without electronic correlation (ET+EV+EJ+Enuc): -25.311825096417515\n",
      "8.149124757850288\n"
     ]
    }
   ],
   "source": [
    "rdm1 = mf.make_rdm1()\n",
    "T = mol.intor('int1e_kin')\n",
    "V = mol.intor('int1e_nuc')\n",
    "I = mol.intor('int2e')\n",
    "J = np.einsum('pqrs,rs->pq', I, rdm1)\n",
    "K = np.einsum('prqs,rs->pq', I, rdm1)\n",
    "\n",
    "ET = np.einsum('uv,uv->',T,rdm1)\n",
    "EV = np.einsum('uv,uv->',V,rdm1)\n",
    "Enuc = mf.energy_nuc()\n",
    "EJ = np.einsum('uv,uv->',J,rdm1)\n",
    "EK = np.einsum('uv,uv->',K,rdm1)\n",
    "\n",
    "\n",
    "print('Electronic kinetic energy (ET):',ET)\n",
    "print('Interelectronic Coulomb repulsion energy (EJ):',EJ)\n",
    "print('Internuclear Coulomb repulsion energy (ENuc):',Enuc)\n",
    "print('Nuclear-electronic Coulomb attraction energy (EV):',EV)\n",
    "print('Energy without electronic correlation (ET+EV+EJ+Enuc):',ET+EV+EJ+Enuc)\n",
    "print(ET+EV+EJ+Enuc+EK)"
   ]
  },
  {
   "cell_type": "code",
   "execution_count": 37,
   "metadata": {},
   "outputs": [
    {
     "name": "stdout",
     "output_type": "stream",
     "text": [
      "0.0 0.0\n",
      "0.0 0.0\n",
      "2.464264437328548e-16 2.952552092727684e-16\n",
      "74.95859303365326 -188.20150640558896 4.234670282527097 83.69641799299109 33.4609498542678\n",
      "Electronic kinetic energy (ET): 74.95859303365326\n",
      "Interelectronic Coulomb repulsion energy (EJ): 83.69641799299109\n",
      "Internuclear Coulomb repulsion energy (ENuc): 4.234670282527097\n",
      "Nuclear-electronic Coulomb attraction energy (EV): -188.20150640558896\n",
      "Energy without electronic correlation (ET+EV+EJ+Enuc): -25.311825096417515\n",
      "8.149124757850288\n"
     ]
    }
   ],
   "source": [
    "\n",
    "\n"
   ]
  },
  {
   "cell_type": "code",
   "execution_count": 39,
   "metadata": {},
   "outputs": [
    {
     "name": "stdout",
     "output_type": "stream",
     "text": [
      "<pyscf.gto.mole.Mole object at 0x1266d0910>\n",
      "[2. 2. 2. 2. 2. 0. 0. 0. 0. 0. 0. 0. 0.]\n"
     ]
    }
   ],
   "source": [
    "print(mf.mol)\n",
    "print(mf.mo_occ)\n",
    "mo = mf.mo_coeff[:,mf.mo_occ>0]"
   ]
  },
  {
   "cell_type": "code",
   "execution_count": 3,
   "metadata": {},
   "outputs": [
    {
     "data": {
      "text/plain": [
       "array([ 1.5390297 ,  2.03346446,  2.76800778, ..., 26.97613462,\n",
       "        7.41030939,  3.58428041])"
      ]
     },
     "execution_count": 3,
     "metadata": {},
     "output_type": "execute_result"
    }
   ],
   "source": [
    "from pyscf import dft\n",
    "\n",
    "grids = dft.Grids(mol)\n",
    "grids.prune = True\n",
    "grids.atom_grid = (75, 302)\n",
    "grids.becke_scheme\n",
    "grids.build()\n",
    "grids.coords\n",
    "grids.weights"
   ]
  },
  {
   "cell_type": "code",
   "execution_count": 4,
   "metadata": {},
   "outputs": [
    {
     "data": {
      "text/plain": [
       "[masked_array(data=[0.10641337474454587, 0.024886912892937214,\n",
       "                    0.0035205811319592916, ..., --, --, --],\n",
       "              mask=[False, False, False, ...,  True,  True,  True],\n",
       "        fill_value=1e+20),\n",
       " masked_array(data=[2.033826015569823e-09, 1.6045017484500194e-10,\n",
       "                    6.535001110506969e-12, ..., --, --, --],\n",
       "              mask=[False, False, False, ...,  True,  True,  True],\n",
       "        fill_value=1e+20),\n",
       " masked_array(data=[0.8826260061671842, 0.966195039706771,\n",
       "                    0.9899817499329502, ..., --, --, --],\n",
       "              mask=[False, False, False, ...,  True,  True,  True],\n",
       "        fill_value=1e+20),\n",
       " masked_array(data=[0.010960617054443796, 0.008918047239841466,\n",
       "                    0.006497668928555538, ..., --, --, --],\n",
       "              mask=[False, False, False, ...,  True,  True,  True],\n",
       "        fill_value=1e+20)]"
      ]
     },
     "execution_count": 4,
     "metadata": {},
     "output_type": "execute_result"
    }
   ],
   "source": [
    "from pyscf.ita.promolecule import ProMolecule\n",
    "from pyscf.ita.dens import ElectronDensity\n",
    "\n",
    "moldens = ElectronDensity.build(mf, grids.coords, deriv=2)\n",
    "\n",
    "promol = ProMolecule.build(mf)\n",
    "promoldens = promol.electron_density(grids.coords, deriv=2)\n",
    "\n",
    "\n",
    "omega = [free_atom_dens.density()/promoldens.density(mask=True) for free_atom_dens in promoldens]\n",
    "omega"
   ]
  },
  {
   "cell_type": "code",
   "execution_count": 12,
   "metadata": {},
   "outputs": [
    {
     "name": "stdout",
     "output_type": "stream",
     "text": [
      "4.726641555262969\n",
      "5.086179660002727\n",
      "3.026751166766153\n",
      "3.9195370232701765\n",
      "16.759109405302027\n",
      "********************\n",
      "0.08319775262458665\n",
      "-0.3425156445442316\n",
      "-0.803871265123158\n",
      "-0.7229910761129875\n",
      "-1.7861802331557906\n",
      "********************\n",
      "-1.0777847623221917\n",
      "-1.7437226107194514\n",
      "0.5656653646436954\n",
      "0.5059641917910251\n",
      "-1.7498778166069229\n"
     ]
    },
    {
     "data": {
      "text/plain": [
       "-1.7498778166069229"
      ]
     },
     "execution_count": 12,
     "metadata": {},
     "output_type": "execute_result"
    }
   ],
   "source": [
    "def relative_fisher_information(grids_weights, omega, moldens, promoldens):\n",
    "    total = 0.0\n",
    "    for i, omega_i in enumerate(omega):\n",
    "        rho = moldens.density(mask=True)[np.newaxis,:]\n",
    "        prorho = promoldens[i].density(mask=True)[np.newaxis,:]\n",
    "\n",
    "        a = (moldens.gradient()/rho)\n",
    "        b = (promoldens[i].gradient()/prorho)\n",
    "        c = np.linalg.norm(a-b, axis=0)**2\n",
    "\n",
    "        kernel = moldens.density()*omega_i*c\n",
    "\n",
    "        d = (grids_weights * kernel).sum()\n",
    "        print(d)\n",
    "        total = total + d\n",
    "    print(total)\n",
    "    return total\n",
    "\n",
    "def relative_alternative_fisher_information(grids_weights, omega, moldens, promoldens):\n",
    "    total = 0.0\n",
    "    for _, omega_i in enumerate(omega):\n",
    "        rho = moldens.density()\n",
    "        prorho = promoldens.density(mask=True)    \n",
    "\n",
    "        kernel = moldens.laplacian()*omega_i*np.ma.log(rho/prorho)\n",
    "\n",
    "        c = (grids_weights * kernel).sum()\n",
    "        print(c)\n",
    "        total +=c\n",
    "\n",
    "    print(total)\n",
    "    return total\n",
    "\n",
    "def G2(grids_weights, omega, moldens, promoldens):\n",
    "    total = 0.\n",
    "    for _, omega_i in enumerate(omega):\n",
    "        a = (moldens.laplacian()/moldens.density(mask=True))\n",
    "        b = (promoldens.laplacian()/promoldens.density(mask=True))\n",
    "\n",
    "        kernel = moldens.density()*omega_i*(a-b)\n",
    "\n",
    "        d = (grids_weights * kernel).sum()\n",
    "        print(d)\n",
    "        total = total + d\n",
    "\n",
    "    print(total)\n",
    "    return total\n",
    "\n",
    "relative_fisher_information(grids.weights, omega, moldens, promoldens)\n",
    "print(\"*\"*20)\n",
    "#G1_function(grids.weights, omega, moldens, promol_dens)\n",
    "relative_alternative_fisher_information(grids.weights, omega, moldens, promoldens)\n",
    "print(\"*\"*20)\n",
    "\n",
    "#G1(grids.weights, omega, moldens, promol_dens, proatom_dens)\n",
    "G2(grids.weights, omega, moldens, promoldens)\n"
   ]
  }
 ],
 "metadata": {
  "kernelspec": {
   "display_name": "base",
   "language": "python",
   "name": "python3"
  },
  "language_info": {
   "codemirror_mode": {
    "name": "ipython",
    "version": 3
   },
   "file_extension": ".py",
   "mimetype": "text/x-python",
   "name": "python",
   "nbconvert_exporter": "python",
   "pygments_lexer": "ipython3",
   "version": "3.11.4"
  },
  "orig_nbformat": 4
 },
 "nbformat": 4,
 "nbformat_minor": 2
}
