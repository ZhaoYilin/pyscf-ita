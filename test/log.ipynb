{
 "cells": [
  {
   "cell_type": "code",
   "execution_count": 1,
   "metadata": {},
   "outputs": [
    {
     "name": "stdout",
     "output_type": "stream",
     "text": [
      "-1.2938975609507495\n",
      "-0.6469487804753747\n"
     ]
    }
   ],
   "source": [
    "from pyscf import gto, scf\n",
    "import numpy as np\n",
    "\n",
    "'''\n",
    "A simple example to call integral transformation for given orbitals\n",
    "'''\n",
    "\n",
    "mol = gto.Mole()\n",
    "mol.atom = \"\"\"\n",
    "O  0.0  0.0  0.0\n",
    "O  0.0  0.0  1.5\n",
    "H  1.0  0.0  0.0\n",
    "H  0.0  0.7  1.0\n",
    "\"\"\"\n",
    "mol.basis = \"6-31G\"\n",
    "mol.verbose = 0\n",
    "mol.build()\n",
    "\n",
    "mf = scf.RHF(mol)\n",
    "mf.kernel()\n",
    "\n",
    "print(-np.log10(1.96742217E+01))\n",
    "print((1/(1-3))*np.log10(1.96742217E+01))"
   ]
  },
  {
   "cell_type": "code",
   "execution_count": 5,
   "metadata": {},
   "outputs": [
    {
     "data": {
      "text/plain": [
       "array([0.        , 0.        , 0.        , 0.        , 0.        ,\n",
       "       0.        , 0.        , 0.        , 0.        , 0.        ,\n",
       "       0.        , 0.        , 0.        , 0.        , 0.        ,\n",
       "       0.        , 0.        , 2.83458919, 0.        , 0.        ,\n",
       "       2.83458919, 0.        , 0.        , 2.83458919, 0.        ,\n",
       "       0.        , 2.83458919, 0.        , 0.        , 2.83458919,\n",
       "       1.88972612, 0.        , 0.        , 1.88972612, 0.        ,\n",
       "       0.        , 0.        , 1.32280829, 1.88972612, 0.        ,\n",
       "       1.32280829, 1.88972612])"
      ]
     },
     "execution_count": 5,
     "metadata": {},
     "output_type": "execute_result"
    }
   ],
   "source": [
    "from pyita.io.fchk import FCHK\n",
    "\n",
    "a = FCHK.from_pyscf('from_pyscf', mf, post_scf=None)\n",
    "\n",
    "\n",
    "result = a._read('from_pyscf.fchk')\n",
    "result['Coordinates of each shell']"
   ]
  }
 ],
 "metadata": {
  "kernelspec": {
   "display_name": "base",
   "language": "python",
   "name": "python3"
  },
  "language_info": {
   "codemirror_mode": {
    "name": "ipython",
    "version": 3
   },
   "file_extension": ".py",
   "mimetype": "text/x-python",
   "name": "python",
   "nbconvert_exporter": "python",
   "pygments_lexer": "ipython3",
   "version": "3.11.4"
  },
  "orig_nbformat": 4
 },
 "nbformat": 4,
 "nbformat_minor": 2
}
