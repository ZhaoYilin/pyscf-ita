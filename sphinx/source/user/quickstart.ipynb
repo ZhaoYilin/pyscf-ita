{
 "cells": [
  {
   "cell_type": "markdown",
   "metadata": {},
   "source": [
    "# Quick Start\n",
    "\n",
    "PYSCF-ITA is a pyscf extension for interpreting the outputs of molecular quantum chemistry calculations with Information-Theoretic Approach (ITA).\n",
    "\n",
    "To use PYSCF-ITA, you should first perform an electronic structure calculation with pyscf. Here we give a quick introduction of basic pyscf calculation. For more information, please check the offical website of is [Pyscf](https://pyscf.org/).\n",
    "\n",
    "This quick start section provides a brief introduction to the use of PySCF-ITA in common quantum chemical simulations. These make reference to specific examples within the dedicated examples directory. For brevity, and so as to not repeat a number of function calls, please note that the cells below often share objects in-between one another. The selection below is far from exhaustive: additional details on the various modules are presented in the accompanying user guide and within the examples directory."
   ]
  },
  {
   "cell_type": "markdown",
   "metadata": {},
   "source": [
    "## Molecular build\n",
    "\n",
    "The fist step of pyscf calculation is to build the `gto.Mole` object, it include attributes of molecular geometry, basis, integrals and so on. Besides the following required parameters, there are many other optional parameters that you can visit pyscf offical website for more detail.\n",
    "\n",
    "Required parameters:\n",
    "\n",
    "* `mol = gto.Mole()` Initialize an instance of `gto.Mole` class to variable `mol`. \n",
    "\n",
    "* `mol.atom = ...` Assign the geometry of molecule.\n",
    "\n",
    "* `mol.basis = \"6-31G\"` Define the [basis set](https://www.basissetexchange.org/) of molecule. \n",
    "\n",
    "* `mol.charge = 0` Charge of molecule, by default 0.\n",
    "\n",
    "* `mol.multiplicity = 1` Multiplicity of molecule, by default 1.\n",
    "\n",
    "* `mol.unit = 'A'` Length unit of molecular geometry; either 'A', 'Angstrom' for Angstrom; 'B', 'Bohr' for Bohr; by default 'Angstrom'.\n",
    "\n",
    "* `mol.build()` Call the method to build the molecule."
   ]
  },
  {
   "cell_type": "code",
   "execution_count": 1,
   "metadata": {},
   "outputs": [
    {
     "data": {
      "text/plain": [
       "<pyscf.gto.mole.Mole at 0x108e7a490>"
      ]
     },
     "execution_count": 1,
     "metadata": {},
     "output_type": "execute_result"
    }
   ],
   "source": [
    "from pyscf import gto\n",
    "\n",
    "mol = gto.Mole()\n",
    "mol.atom = \"\"\"\n",
    "8  0.0  0.0  0.0\n",
    "O  0.0  0.0  1.5\n",
    "H  1.0  0.0  0.0\n",
    "H  0.0  0.7  1.0\n",
    "\"\"\"\n",
    "mol.basis = \"6-31G\"\n",
    "mol.charge = 0\n",
    "mol.multiplicity = 1\n",
    "mol.unit = 'A'\n",
    "mol.build()"
   ]
  },
  {
   "cell_type": "markdown",
   "metadata": {},
   "source": [
    "## Pyscf Calculation"
   ]
  },
  {
   "cell_type": "markdown",
   "metadata": {},
   "source": [
    "### Hartree Fock\n",
    "\n",
    "The Hartree–Fock method is an uncorrelated mean-field theory that offers a qualitative description of chemical systems. Although Hartree–Fock theory is only qualitatively correct, it forms the basis for more accurate models and becomes the cornerstone of ab initio quantum chemistry.\n",
    "\n",
    "Minimal examples for HF calculations are shown below."
   ]
  },
  {
   "cell_type": "code",
   "execution_count": 2,
   "metadata": {},
   "outputs": [
    {
     "name": "stdout",
     "output_type": "stream",
     "text": [
      "converged SCF energy = -150.585033780838\n"
     ]
    },
    {
     "data": {
      "text/plain": [
       "RHF object of <class 'pyscf.scf.hf.RHF'>"
      ]
     },
     "execution_count": 2,
     "metadata": {},
     "output_type": "execute_result"
    }
   ],
   "source": [
    "from pyscf import scf\n",
    "\n",
    "hf_mf = scf.HF(mol) # likewise for RHF, UHF, ROHF and GHF\n",
    "hf_mf.run()"
   ]
  },
  {
   "cell_type": "markdown",
   "metadata": {},
   "source": [
    "### Kohn-Sham Density Functional Theory\n",
    "\n",
    "Running a KS-DFT calculation is as straightforward as the above HF counterpart. In [Libxc](https://www.tddft.org/programs/libxc/) you can find various types of functionals: LDA, GGA, and meta-GGA (mGGA) functionals. LDAs, GGAs, and meta-GGAs depend on local information, in the sense that the value of the density functional part of the energy density at a given point depends only on the values of the density, the gradient of the density, and the kinetic energy density and/or the density laplacian, respectively, at the given point.\n",
    "\n",
    "Minimal examples for each type of calculations are shown below."
   ]
  },
  {
   "cell_type": "code",
   "execution_count": 3,
   "metadata": {},
   "outputs": [
    {
     "name": "stderr",
     "output_type": "stream",
     "text": [
      "/usr/local/Caskroom/miniconda/base/lib/python3.11/site-packages/pyscf/dft/libxc.py:772: UserWarning: Since PySCF-2.3, B3LYP (and B3P86) are changed to the VWN-RPA variant, the same to the B3LYP functional in Gaussian and ORCA (issue 1480). To restore the VWN5 definition, you can put the setting \"B3LYP_WITH_VWN5 = True\" in pyscf_conf.py\n",
      "  warnings.warn('Since PySCF-2.3, B3LYP (and B3P86) are changed to the VWN-RPA variant, '\n"
     ]
    },
    {
     "name": "stdout",
     "output_type": "stream",
     "text": [
      "converged SCF energy = -151.305840677392\n"
     ]
    },
    {
     "data": {
      "text/plain": [
       "RKS object of <class 'pyscf.dft.rks.RKS'>"
      ]
     },
     "execution_count": 3,
     "metadata": {},
     "output_type": "execute_result"
    }
   ],
   "source": [
    "from pyscf import dft\n",
    "\n",
    "dft_mf = dft.KS(mol) # likewise for RKS, UKS, ROKS and GKS\n",
    "dft_mf.xc = 'm062x'\n",
    "dft_mf.run()"
   ]
  },
  {
   "cell_type": "markdown",
   "metadata": {},
   "source": [
    "### Single reference Post-HF Method\n",
    "\n",
    "In computational chemistry, post–Hartree–Fock (post-HF) methods are the set of methods developed to improve on the Hartree–Fock (HF), or self-consistent field (SCF) method. They add electron correlation which is a more accurate way of including the repulsions between electrons than in the Hartree–Fock method where repulsions are only averaged.\n",
    "\n",
    "Minimal examples for each type of calculations are shown below"
   ]
  },
  {
   "cell_type": "code",
   "execution_count": 4,
   "metadata": {},
   "outputs": [
    {
     "name": "stdout",
     "output_type": "stream",
     "text": [
      "E(MP2) = -150.854045557244  E_corr = -0.269011776406098\n",
      "E(SCS-MP2) = -150.850347103892  E_corr = -0.26531332305376\n",
      "E(RCISD) = -150.8389090064467  E_corr = -0.2538752256083305\n",
      "E(CCSD) = -150.8591226999828  E_corr = -0.2740889191444854\n"
     ]
    }
   ],
   "source": [
    "from pyscf import mp, ci, cc\n",
    "\n",
    "mymp = mp.MP2(hf_mf).run()\n",
    "myci = ci.CISD(hf_mf).run()\n",
    "mycc = cc.CCSD(hf_mf).run()"
   ]
  },
  {
   "cell_type": "markdown",
   "metadata": {},
   "source": [
    "### Multi reference Post-HF Method\n",
    "\n",
    "Multiconfigurational self-consistent field (MCSCF) methods go beyond the single-determinant Hartree-Fock (HF) method by allowing the wave function to become a linear combination of multiple determinants. While the configurations i.e. determinants can in principle be chosen in an arbitrary number of ways, PySCF focuses on the complete active space (CAS) family of methods, where the set of electron configurations is defined in terms of a given set of active orbitals, also known as the “active space”. The CAS method generates all possible electron configurations that can be formed from the set of the active orbitals, and is therefore equivalent to an FCI procedure on a subset of the molecular orbitals; please see Configuration interaction (CISD and FCI) for a discussion on the FCI method. The use of MCSCF methods is crucial for reliable modeling of systems that exhibit nearly degenerate orbitals i.e. static correlation, such as transition metal complexes. For a general discussion of MCSCF methods, we direct the reader to References and, and for specific details about PySCF’s implementation of CASSCF.\n",
    "\n",
    "Minimal examples for each type of calculations are shown below"
   ]
  },
  {
   "cell_type": "code",
   "execution_count": 5,
   "metadata": {},
   "outputs": [
    {
     "name": "stdout",
     "output_type": "stream",
     "text": [
      "CASSCF energy = -150.679332235502\n",
      "CASCI E = -150.679332235502  E(CI) = -21.6884571730814  S^2 = 0.0000000\n",
      "CASCI E = -150.626755311336  E(CI) = -18.5296721415734  S^2 = 0.0000000\n"
     ]
    }
   ],
   "source": [
    "from pyscf import mcscf\n",
    "\n",
    "ncas, nelecas = (6,8)\n",
    "mycasscf = mcscf.CASSCF(hf_mf, ncas, nelecas).run()\n",
    "mycasci = mcscf.CASCI(hf_mf, ncas, nelecas).run()"
   ]
  },
  {
   "cell_type": "markdown",
   "metadata": {},
   "source": [
    "## Grids\n",
    "\n",
    "For the integral of DFT, since the analytical form is not as easy to derive, numerical integration is used. Numerical integration is the approximate computation of an integral using numerical techniques. The numerical computation of an integral is sometimes called quadrature.  to the desired precision The basic problem in numerical integration is to compute an approximate solution to a definite integral of a function $f(q)$ as a weighted sum of function values at specified points within the domain of integration:\n",
    "\n",
    "$$\n",
    "\\int_a^b f(q) dq = \\sum_i^n  f(q_i)\\omega(i) \n",
    "\\tag{1}\n",
    "$$\n",
    "\n",
    "These grids are constructed starting from a “parent” grid $(N_r, N_{\\Omega})$ consisting of Nr radial spheres with $N_{\\Omega}$ angular (Lebedev) grid points on each, then systematically pruning the number of angular points in regions where sophisticated angular quadrature is not necessary, such as near the nuclei where the charge density is nearly spherically symmetric and at long distance from the nuclei where it varies slowly. A large number of points are retained in the valence region where angular accuracy is critical.\n",
    "\n",
    "<center><b>Table 1. Deafult radial and angular fineness of atomic grids.</b></center>\n",
    "\n",
    "| Elements   | Radial Part | Angular Part |\n",
    "| :----------| :-----------| :----------- |        \n",
    "| H, He      | 50          | 302          | \n",
    "| Li - Ne    | 75          | 302          |\n",
    "| Na - Ar    | 80          | 434          |\n",
    "| K  - Kr    | 90          | 434          |\n",
    "| Rb - Xe    | 95          | 434          |\n",
    "| Cs - Rn    | 100         | 434          |\n",
    "\n",
    "\n",
    "Required parameters:\n",
    "\n",
    "* `grids = dft.Grids(mol)` Initialize an instance of `dft.Grids` class to variable `grids`. \n",
    "\n",
    "* `grids.atom_grid = (75, 302)` Radial and angular fineness of atomic grids; by default using the fineness in Table 2 .\n",
    "\n",
    "* `grids.becke_schme` Atom to molecule Reweight scheme; by default original_becke scheme.\n",
    "\n",
    "* `grids.prune = True` If appy grids prune scheme; by default True.\n",
    "\n",
    "* `grids.build()` Call the method to build the grids."
   ]
  },
  {
   "cell_type": "code",
   "execution_count": 6,
   "metadata": {},
   "outputs": [
    {
     "data": {
      "text/plain": [
       "<pyscf.dft.gen_grid.Grids at 0x112075010>"
      ]
     },
     "execution_count": 6,
     "metadata": {},
     "output_type": "execute_result"
    }
   ],
   "source": [
    "from pyscf import dft\n",
    "\n",
    "grids = dft.Grids(mol)\n",
    "grids.atom_grid = (75, 302)\n",
    "\n",
    "grids.becke_scheme\n",
    "grids.prune = True\n",
    "grids.build()"
   ]
  },
  {
   "cell_type": "markdown",
   "metadata": {},
   "source": [
    "## Compute ITA\n",
    "\n",
    "The [information-theoretic quantities](../developer/ita.ipynb) developed by Shubin Liu et al. is \n",
    "becoming more and more popular in predicting and understanding many chemical relevant problems, \n",
    "such as reactivity, regioselectivity, aromaticity, pKa and so on. See Acta Phys. -Chim. Sin., 32, \n",
    "98 (2016) and WIREs Comput Mol Sci., e1461 (2019) for reviews.\n",
    "\n",
    "<center><b>Table 2. ITA Code table.</b></center>\n",
    "\n",
    "| Name   | Symbol      | Dependence | Code     |   Minimal Rung |\n",
    "| :---     | :---        |    :----   |          :--- |:--- |\n",
    "| Shannon entropy    | $S_S$      | $n(\\mathbf{r})$       | 11   |[1,1]|\n",
    "| Fisher information    | $I_F$   | $n(\\mathbf{r}), \\mathbf{\\nabla} n(\\mathbf{r})$        | 12     |[2,1]|\n",
    "| Alternative Fisher information    | $I^{\\prime}_F$   | $n(\\mathbf{r}), \\mathbf{\\nabla} n(\\mathbf{r}),\\nabla^2 n(\\mathbf{r})$        | 13      |[3,1]|\n",
    "| Renyi entropy  | $R_n$   | $n(\\mathbf{r})$        | 14      |[1,1]|\n",
    "| Tsallis entropy  | $T_n$   | $n(\\mathbf{r})$        | 15      |[1,1]|\n",
    "| Onicescu information   | $E_n$   | $n(\\mathbf{r})$        | 16      |[1,1]|\n",
    "| Ghosh–Berkowitz–Parr entropy | $S_\\text{GBP}$   | $n(\\mathbf{r}), \\mathbf{\\nabla} n(\\mathbf{r}),\\nabla^2 n(\\mathbf{r}), \\tau(\\mathbf{r})$       | 17      |[3,1]|\n",
    "| Relative Shannon entropy   | $S^r_S$   | $n(\\mathbf{r})$, $n_0(\\mathbf{r})$        | 21     |[1,1]|\n",
    "| Relative Fisher Information   | $I^r_F$   | $n(\\mathbf{r})$, $\\nabla n(\\mathbf{r})$, $n_0(\\mathbf{r})$, $\\nabla n_0(\\mathbf{r})$       | 22     |[2,2]|\n",
    "| Relative Alternative Fisher Information   | $I^{\\prime r}_F$   | $n(\\mathbf{r})$, $\\nabla^2 n(\\mathbf{r})$, $n_0(\\mathbf{r})$        | 23     |[3,1]|\n",
    "| Relative Renyi entropy   | $R^r_n$   | $n(\\mathbf{r})$, $n_0(\\mathbf{r})$        | 24     |[1,1]|\n",
    "| Relative Tsallis entropy   | $T^r_n$   | $n(\\mathbf{r})$, $n_0(\\mathbf{r})$        | 25     |[1,1]|\n",
    "| Relative Onicescu information   | $E_n^r$   | $n(\\mathbf{r})$, $n_0(\\mathbf{r})$         | 26      |[1,1]|\n",
    "| $G_1$   | $G_1$   | $n_A(\\mathbf{r})$, $\\nabla^2_A n(\\mathbf{r})$, $n^0_A(\\mathbf{r})$         | 28      |[3,1]|\n",
    "| $G_2$   | $G_2$   | $n_A(\\mathbf{r})$, $\\nabla^2_A n(\\mathbf{r})$, $n^0_A(\\mathbf{r})$, $\\nabla^2 n^0_A(\\mathbf{r})$         | 29      |[3,3]|\n",
    "| $G_3$   | $G_3$   | $n_A(\\mathbf{r})$, $\\nabla_A n(\\mathbf{r})$, $n^0_A(\\mathbf{r})$, $\\nabla n^0_A(\\mathbf{r})$         | 30      |[2,2]|\n",
    "\n",
    "<div class=\"alert alert-info\">\n",
    "\n",
    "**Notes**\n",
    "\n",
    "* In Ghosh–Berkowitz–Parr entropy equation, k is the Boltzmann constant, by default 1.0 for convenience.\n",
    "\n",
    "* In Renyi entropy equation, $\\log_{10}$ is used instead of $\\ln$ for convenience.\n",
    "\n",
    "* The G1, G2 and G3 ITA works only for atoms-in-molecules representation.\n",
    "\n",
    "</div>\n",
    "\n",
    "\n",
    "Required parameters:\n",
    "\n",
    "* `ita = ITA()` Initialize an instance of `ITA` class to variable `ita`. \n",
    "\n",
    "* `ita.method = ...` Assign the pyscf method to `ITA` instance. \n",
    "\n",
    "* `ita.grids = grids` Assign the pyscf grids to `ITA` instance. \n",
    "\n",
    "* `ita.spin = 'ab'` Type of density to compute; either 'ab' for total, 'a' for alpha-spin, 'b' for beta-spin, or 'm' for magnetization; by default 'ab'.\n",
    "\n",
    "* `ita.promolecule = promol` Assign instance of `ProMolecule` to `ITA` instance, by default None.\n",
    "\n",
    "* `ita.build()` Call the method to build the `ITA` class.\n",
    "\n",
    "\n",
    "Minimal examples for each type of calculations are shown below."
   ]
  },
  {
   "cell_type": "code",
   "execution_count": 7,
   "metadata": {},
   "outputs": [
    {
     "data": {
      "text/plain": [
       "917.4672693988451"
      ]
     },
     "execution_count": 7,
     "metadata": {},
     "output_type": "execute_result"
    }
   ],
   "source": [
    "from pyscf.ita.ita import ITA\n",
    "\n",
    "ita = ITA(hf_mf, grids)\n",
    "ita.build() \n",
    "\n",
    "ita.shannon_entropy()\n",
    "ita.fisher_information()\n",
    "ita.alternative_fisher_information()"
   ]
  },
  {
   "cell_type": "code",
   "execution_count": 8,
   "metadata": {},
   "outputs": [
    {
     "data": {
      "text/plain": [
       "117.73791583391437"
      ]
     },
     "execution_count": 8,
     "metadata": {},
     "output_type": "execute_result"
    }
   ],
   "source": [
    "\n",
    "\n",
    "ita.renyi_entropy(n=2)\n",
    "ita.tsallis_entropy(n=2)\n",
    "ita.onicescu_information(n=2)\n",
    "ita.GBP_entropy()"
   ]
  },
  {
   "cell_type": "markdown",
   "metadata": {},
   "source": [
    "\n",
    "\n",
    "Required parameters:\n",
    "\n",
    "* `promol = ProMolecule(hf_mf)` Initialize an instance of `ProMolecule` class to variable `promol`. \n",
    "\n",
    "* `promol.pro_charge = {'H':0, 'O':0} ` Charge of proatoms in promolecule; if None, set all the charge to 0.\n",
    "\n",
    "* `promol.pro_multiplicity =  {'H':2, 'O':3}` Multiplicity of protaoms in promolecule; if None, set all the multiplicity to corresponding 0 charge atom.\n",
    "\n",
    "* `promol.build()` Call the method to build the `ProMolecule` class.\n",
    "\n",
    "<div class=\"alert alert-info\">\n",
    "\n",
    "**Notes**\n",
    "\n",
    "* If the attributes of ita instance is updated, one must call the build() method again.\n",
    "\n",
    "</div>"
   ]
  },
  {
   "cell_type": "code",
   "execution_count": 9,
   "metadata": {},
   "outputs": [
    {
     "data": {
      "text/plain": [
       "18.60935839551751"
      ]
     },
     "execution_count": 9,
     "metadata": {},
     "output_type": "execute_result"
    }
   ],
   "source": [
    "from pyscf.ita.promolecule import ProMolecule\n",
    "\n",
    "promol = ProMolecule(hf_mf)\n",
    "promol.pro_charge = {'H':0, 'O':0}\n",
    "promol.pro_multiplicity = {'H':2, 'O':3}\n",
    "promol.build()\n",
    "\n",
    "# Call the build method again to update ita instance.\n",
    "ita.promolecule = promol\n",
    "ita.build()\n",
    "\n",
    "ita.relative_shannon_entropy()\n",
    "ita.relative_fisher_information()\n",
    "ita.relative_alternative_fisher_information()\n",
    "ita.relative_renyi_entropy(n=2)\n",
    "ita.relative_tsallis_entropy(n=2)\n",
    "ita.relative_onicescu_information(n=2)"
   ]
  },
  {
   "cell_type": "markdown",
   "metadata": {},
   "source": [
    "\n",
    "\n",
    "\n",
    "\n",
    "\n",
    "\n",
    "\n",
    "Required parameters:\n",
    "\n",
    "* `ita_code = ...`  List of ITA code to calculate. Check the ITA code table above for detail.\n",
    "\n",
    "* `representation = 'electron density'` Representation; either 'electron density', 'shape function' or 'atoms in molecules'; by default 'electron density'. \n",
    "\n",
    "* `partition = 'Hirshfeld'` Atom in molecules partition scheme; either 'Becke' or 'Hirshfeld'; by default 'Hirshfeld'.\n",
    "\n",
    "* `filename = './ita.log'` File path and name of output, by default 'ita.log'.\n",
    "\n",
    "\n",
    "<div class=\"alert alert-info\">\n",
    "\n",
    "**Notes**\n",
    "\n",
    "* If you wanna use Becke partition in following calcuation, before build the instance of  `ITA` class, one must update the grids attributes coords and weights by: grids.coords, grids.weights = grids.gen_partition(mol) \n",
    "\n",
    "* TODO: Implement the Bader's quantum theory of atoms in molecules (QTAIM) partition.\n",
    "\n",
    "</div>"
   ]
  },
  {
   "cell_type": "code",
   "execution_count": 10,
   "metadata": {},
   "outputs": [],
   "source": [
    "ita.batch_compute(ita_code=[11,12,13,14,15,16,17], representation='electron density', partition = 'hirshfeld', filename='./ita_ed.log')"
   ]
  },
  {
   "cell_type": "markdown",
   "metadata": {},
   "source": [
    "[ita_ed.log](./ita_ed.log)"
   ]
  },
  {
   "cell_type": "code",
   "execution_count": 11,
   "metadata": {},
   "outputs": [],
   "source": [
    "ita.batch_compute(ita_code=[11,12,13,14,15,16,17], representation='shape function', partition = 'hirshfeld', filename='./ita_sf.log')"
   ]
  },
  {
   "cell_type": "markdown",
   "metadata": {},
   "source": [
    "[ita_sf.log](./ita_sf.log)"
   ]
  },
  {
   "cell_type": "code",
   "execution_count": null,
   "metadata": {},
   "outputs": [],
   "source": [
    "ita.batch_compute(ita_code=[21,22,23,24,25,26,28,29,30], representation='atoms in molecules', partition = 'hirshfeld', filename='./ita_aim.log')"
   ]
  },
  {
   "cell_type": "markdown",
   "metadata": {},
   "source": [
    "[ita_aim.log](./ita_aim.log)\n",
    "\n",
    "\n",
    "<div class=\"alert alert-info\">\n",
    "\n",
    "**Notes**\n",
    "\n",
    "* The G1, G2 and G3 ITA works only for atoms-in-molecules representation.\n",
    "\n",
    "</div>"
   ]
  }
 ],
 "metadata": {
  "kernelspec": {
   "display_name": "base",
   "language": "python",
   "name": "python3"
  },
  "language_info": {
   "codemirror_mode": {
    "name": "ipython",
    "version": 3
   },
   "file_extension": ".py",
   "mimetype": "text/x-python",
   "name": "python",
   "nbconvert_exporter": "python",
   "pygments_lexer": "ipython3",
   "version": "3.11.4"
  }
 },
 "nbformat": 4,
 "nbformat_minor": 2
}
